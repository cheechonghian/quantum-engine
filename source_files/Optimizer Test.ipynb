{
 "cells": [
  {
   "cell_type": "code",
   "execution_count": null,
   "metadata": {},
   "outputs": [],
   "source": [
    "import scipy.optimize as spyopt\n",
    "import numpy as np\n",
    "import matplotlib.pyplot as plt\n",
    "import time"
   ]
  },
  {
   "cell_type": "code",
   "execution_count": null,
   "metadata": {},
   "outputs": [],
   "source": [
    "class report:\n",
    "    def __init__(self,initial_guess):\n",
    "        self.initial_guess = initial_guess\n",
    "        self.store = initial_guess\n",
    "        \n",
    "    def reporter(self,p):\n",
    "        self.store = np.vstack((self.store, p))\n",
    "    \n",
    "    def check_lim(self):\n",
    "        xlim = np.array([self.initial_guess[0],self.initial_guess[0]])\n",
    "        for coord in self.store:\n",
    "            if xlim[0] > coord[0]:\n",
    "                xlim[0] = coord[0]\n",
    "            if xlim[1] < coord[0]:\n",
    "                xlim[1] = coord[0]\n",
    "        self.xlim = xlim   \n",
    "        \n",
    "        ylim = np.array([self.initial_guess[1],self.initial_guess[1]])\n",
    "        for coord in self.store:\n",
    "            if ylim[0] > coord[1]:\n",
    "                ylim[0] = coord[1]\n",
    "            if ylim[1] < coord[1]:\n",
    "                ylim[1] = coord[1]\n",
    "        self.ylim = ylim  "
   ]
  },
  {
   "cell_type": "code",
   "execution_count": null,
   "metadata": {},
   "outputs": [],
   "source": [
    "inital_guess = np.array([-1,1])\n",
    "my_report = report(inital_guess)\n",
    "NM = spyopt.minimize(spyopt.rosen,inital_guess,method=\"Powell\",  callback=my_report.reporter)"
   ]
  },
  {
   "cell_type": "code",
   "execution_count": null,
   "metadata": {},
   "outputs": [],
   "source": [
    "my_report.check_lim()"
   ]
  },
  {
   "cell_type": "code",
   "execution_count": null,
   "metadata": {},
   "outputs": [],
   "source": [
    "fig, ax = plt.subplots(dpi=100)\n",
    "xsize = abs(my_report.xlim[0] - my_report.xlim[1])\n",
    "ysize = abs(my_report.ylim[0] - my_report.ylim[1])\n",
    "x = np.linspace(my_report.xlim[0]-xsize/4,my_report.xlim[1]+xsize/4,2001)\n",
    "y = np.linspace(my_report.ylim[0]-ysize/4,my_report.ylim[1]+ysize/4,2001)\n",
    "x_coord, y_coord = np.meshgrid(x,y)\n",
    "f = lambda x,y: spyopt.rosen([x, y])\n",
    "z_coord = f(x_coord,y_coord)\n",
    "ax.contour(x_coord,y_coord, z_coord, np.arange(12)**5)\n",
    "\n",
    "ax.plot(my_report.store[:, 0], my_report.store[:, 1], '-o')\n",
    "ax.plot(NM[\"x\"][0], NM[\"x\"][1],\"x\")"
   ]
  },
  {
   "cell_type": "code",
   "execution_count": null,
   "metadata": {},
   "outputs": [],
   "source": [
    "my_report.store"
   ]
  },
  {
   "cell_type": "code",
   "execution_count": null,
   "metadata": {},
   "outputs": [],
   "source": [
    "def timer(func):\n",
    "    def time_check(*args,**kwargs):\n",
    "        start_time = time.perf_counter()\n",
    "        result = func(*args, **kwargs)\n",
    "        hours, rem = divmod(time.perf_counter()-start_time, 3600)\n",
    "        minutes, seconds = divmod(rem, 60)\n",
    "        print(\"Time taken for code execution: {:0>2}:{:0>2}:{:02.0f} (HH:MM:SS)\".format(int(hours),int(minutes),seconds))\n",
    "        return result\n",
    "    return time_check"
   ]
  },
  {
   "cell_type": "code",
   "execution_count": null,
   "metadata": {},
   "outputs": [],
   "source": [
    "@timer\n",
    "def wait(x):\n",
    "    time.sleep(x)\n",
    "    return 1,2\n",
    "    "
   ]
  },
  {
   "cell_type": "code",
   "execution_count": null,
   "metadata": {},
   "outputs": [],
   "source": [
    "x,y = wait(1)\n",
    "print(x)\n",
    "print(y)"
   ]
  },
  {
   "cell_type": "code",
   "execution_count": 7,
   "metadata": {},
   "outputs": [],
   "source": [
    "import numpy as np\n",
    "import numpy.random as rand"
   ]
  },
  {
   "cell_type": "code",
   "execution_count": 8,
   "metadata": {},
   "outputs": [],
   "source": [
    "rng = rand.default_rng()\n",
    "vals = rng.standard_normal(10)"
   ]
  },
  {
   "cell_type": "code",
   "execution_count": 9,
   "metadata": {},
   "outputs": [
    {
     "data": {
      "text/plain": [
       "array([-0.7856385 , -0.93291497,  0.18216735,  1.0972542 , -1.62228421,\n",
       "        1.53270336,  0.88971426, -0.71708333, -1.89174251, -0.4230328 ])"
      ]
     },
     "execution_count": 9,
     "metadata": {},
     "output_type": "execute_result"
    }
   ],
   "source": [
    "vals"
   ]
  },
  {
   "cell_type": "code",
   "execution_count": 12,
   "metadata": {},
   "outputs": [
    {
     "name": "stdout",
     "output_type": "stream",
     "text": [
      "[4 0 3 2 9]\n",
      "[1 5 6 7 8]\n"
     ]
    }
   ],
   "source": [
    "sample = rng.choice(10,5,replace=False)\n",
    "sample_other = np.delete(np.arange(10),sample)\n",
    "print(sample)\n",
    "print(sample_other)"
   ]
  },
  {
   "cell_type": "code",
   "execution_count": 14,
   "metadata": {},
   "outputs": [
    {
     "data": {
      "text/plain": [
       "10"
      ]
     },
     "execution_count": 14,
     "metadata": {},
     "output_type": "execute_result"
    }
   ],
   "source": [
    "x = np.array([232,6436,342,64369,945,4564,74,68,5,67482])\n",
    "len(x)"
   ]
  },
  {
   "cell_type": "code",
   "execution_count": 15,
   "metadata": {},
   "outputs": [
    {
     "data": {
      "text/plain": [
       "array([  945,   232, 64369,   342, 67482])"
      ]
     },
     "execution_count": 15,
     "metadata": {},
     "output_type": "execute_result"
    }
   ],
   "source": [
    "x[sample]"
   ]
  },
  {
   "cell_type": "code",
   "execution_count": null,
   "metadata": {},
   "outputs": [],
   "source": []
  }
 ],
 "metadata": {
  "kernelspec": {
   "display_name": "Python 3",
   "language": "python",
   "name": "python3"
  },
  "language_info": {
   "codemirror_mode": {
    "name": "ipython",
    "version": 3
   },
   "file_extension": ".py",
   "mimetype": "text/x-python",
   "name": "python",
   "nbconvert_exporter": "python",
   "pygments_lexer": "ipython3",
   "version": "3.7.9"
  }
 },
 "nbformat": 4,
 "nbformat_minor": 4
}
