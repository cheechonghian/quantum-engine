{
 "cells": [
  {
   "cell_type": "code",
   "execution_count": 1,
   "metadata": {},
   "outputs": [],
   "source": [
    "import quantum_engine as qe\n",
    "import matplotlib.pyplot as plt\n",
    "import numpy as np"
   ]
  },
  {
   "cell_type": "code",
   "execution_count": null,
   "metadata": {},
   "outputs": [],
   "source": [
    "my_teacher_model = qe.teacher_model(verbose=False)\n",
    "my_teacher_model.select_model(\"linear\")\n",
    "my_teacher_model.config()"
   ]
  },
  {
   "cell_type": "code",
   "execution_count": null,
   "metadata": {},
   "outputs": [],
   "source": [
    "my_loss_function = qe.loss_function(verbose=False)\n",
    "my_loss_function.select_loss(\"sobolev\")\n",
    "my_loss_function.config()"
   ]
  },
  {
   "cell_type": "code",
   "execution_count": null,
   "metadata": {},
   "outputs": [],
   "source": [
    "my_quantum_data = qe.quantum_data(verbose=False)\n",
    "my_quantum_data.select_encoding(\"default\")\n",
    "my_quantum_data.config()"
   ]
  },
  {
   "cell_type": "code",
   "execution_count": null,
   "metadata": {},
   "outputs": [],
   "source": [
    "my_entangling = qe.quantum_ham_layer(verbose=False)\n",
    "my_entangling.select_hamiltonian_type(\"Ising\")\n",
    "my_entangling.config()"
   ]
  },
  {
   "cell_type": "code",
   "execution_count": null,
   "metadata": {},
   "outputs": [],
   "source": [
    "my_parameterised = qe.quantum_ml_layer(verbose=False)\n",
    "my_parameterised.select_ml_type(\"Single Qubit Rotations/ Customs\")\n",
    "my_parameterised.config()"
   ]
  },
  {
   "cell_type": "code",
   "execution_count": null,
   "metadata": {},
   "outputs": [],
   "source": [
    "my_reupload = qe.quantum_ul_layer(verbose=False)\n",
    "my_reupload.select_upload_type(\"default\")\n",
    "my_reupload.config()"
   ]
  },
  {
   "cell_type": "code",
   "execution_count": null,
   "metadata": {},
   "outputs": [],
   "source": [
    "my_measurement = qe.quantum_measurement(verbose=False)\n",
    "my_measurement.select_measurement(\"default\")\n",
    "my_measurement.config()"
   ]
  },
  {
   "cell_type": "code",
   "execution_count": null,
   "metadata": {},
   "outputs": [],
   "source": [
    "my_quantum_model = qe.quantum_model(verbose=False)\n",
    "my_quantum_model.select_quantum_model(\"default\")\n",
    "my_quantum_model.config(my_entangling, my_parameterised, my_reupload, quantum_measurement,\"default\")"
   ]
  },
  {
   "cell_type": "code",
   "execution_count": null,
   "metadata": {},
   "outputs": [],
   "source": [
    "my_optimizer = qe.optimiser(verbose=False)\n",
    "my_optimizer.select_optimiser(\"GD/SGD\")\n",
    "my_optimizer.config()"
   ]
  },
  {
   "cell_type": "code",
   "execution_count": null,
   "metadata": {},
   "outputs": [],
   "source": [
    "my_trainer = qe.quantum_trainer(verbose=False)\n",
    "my_trainer.config()\n",
    "my_trained_quantum_model, my_training_report = my_trainer.train(my_teacher_model, my_quantum_model, my_loss_function, my_optimizer)"
   ]
  },
  {
   "cell_type": "code",
   "execution_count": 2,
   "metadata": {},
   "outputs": [
    {
     "data": {
      "text/plain": [
       "[<matplotlib.lines.Line2D at 0x12bcace20c8>]"
      ]
     },
     "execution_count": 2,
     "metadata": {},
     "output_type": "execute_result"
    },
    {
     "data": {
      "image/png": "[encoded data removed]",
      "text/plain": [
       "<Figure size 600x400 with 1 Axes>"
      ]
     },
     "metadata": {
      "needs_background": "light"
     },
     "output_type": "display_data"
    }
   ],
   "source": [
    "x = np.arange(0.1, 2, 0.1)\n",
    "y = dmy_trained_quantum_model.predict(x)\n",
    "\n",
    "fig, ax = plt.subplots(dpi=100)\n",
    "ax.plot(x,y)"
   ]
  },
  {
   "cell_type": "code",
   "execution_count": null,
   "metadata": {},
   "outputs": [],
   "source": []
  }
 ],
 "metadata": {
  "kernelspec": {
   "display_name": "Python 3",
   "language": "python",
   "name": "python3"
  },
  "language_info": {
   "codemirror_mode": {
    "name": "ipython",
    "version": 3
   },
   "file_extension": ".py",
   "mimetype": "text/x-python",
   "name": "python",
   "nbconvert_exporter": "python",
   "pygments_lexer": "ipython3",
   "version": "3.7.9"
  }
 },
 "nbformat": 4,
 "nbformat_minor": 4
}
