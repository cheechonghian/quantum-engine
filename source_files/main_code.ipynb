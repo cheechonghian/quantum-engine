{
 "cells": [
  {
   "cell_type": "code",
   "execution_count": null,
   "metadata": {},
   "outputs": [],
   "source": [
    "import quantum_engine as qe\n",
    "import matplotlib.pyplot as plt\n",
    "import numpy as np"
   ]
  },
  {
   "cell_type": "code",
   "execution_count": null,
   "metadata": {},
   "outputs": [],
   "source": [
    "# NOTE:\n",
    "# \"INPUT\" is for class and objects\n",
    "# \"config\" is for other settings that is not class and objects\n",
    "\n",
    "my_teacher_model = qe.teacher_model(verbose=False)\n",
    "my_teacher_model.config(select_model=\"quad\")\n",
    "my_teacher_model.generate_training_batch()\n",
    "my_teacher_model.plot_training_batch()"
   ]
  },
  {
   "cell_type": "code",
   "execution_count": null,
   "metadata": {},
   "outputs": [],
   "source": [
    "my_loss_function = qe.loss_function(verbose=False)\n",
    "my_loss_function.config(select_loss = \"quad_loss\")"
   ]
  },
  {
   "cell_type": "code",
   "execution_count": null,
   "metadata": {},
   "outputs": [],
   "source": [
    "my_quantum_encoding = qe.quantum_encoding(verbose=False)\n",
    "my_quantum_encoding.config(select_encoding=\"default\")"
   ]
  },
  {
   "cell_type": "code",
   "execution_count": null,
   "metadata": {},
   "outputs": [],
   "source": [
    "# Haven make it quantum engine\n",
    "my_entangling = qe.quantum_block(verbose=False)\n",
    "my_entangling.config(select_block=\"ham\")\n",
    "config_ham_dict = {\"ham_type\": \"ham\", }\n",
    "my_entangling.config_dict(config_ham_dict)"
   ]
  },
  {
   "cell_type": "code",
   "execution_count": null,
   "metadata": {},
   "outputs": [],
   "source": [
    "my_parameterised = qe.quantum_block(verbose=False)\n",
    "my_parameterised.config(select_block=\"qubit_rotate\")\n",
    "config_qubit_rotate_dict = {\"qubit_rotate_type\": \"xyz\"}\n",
    "my_parameterised.config_dict(config_qubit_rotate_dict)"
   ]
  },
  {
   "cell_type": "code",
   "execution_count": null,
   "metadata": {},
   "outputs": [],
   "source": [
    "# TO BE DELETED\n",
    "my_entangling = qe.quantum_ham_layer(verbose=False)\n",
    "my_entangling.config(select_ham_type = \"Ising\")\n",
    "my_parameterised = qe.quantum_ml_layer(verbose=False)\n",
    "my_parameterised.config(select_ml_type= \" Single Qubit Rotations/ Customs\")\n",
    "my_reupload = qe.quantum_ul_layer(verbose=False)\n",
    "my_reupload.config(select_upload_type=\"default\")"
   ]
  },
  {
   "cell_type": "code",
   "execution_count": null,
   "metadata": {},
   "outputs": [],
   "source": [
    "my_measurement = qe.quantum_measurement(verbose=False)\n",
    "my_measurement.config(select_measurement = \"default\")"
   ]
  },
  {
   "cell_type": "code",
   "execution_count": null,
   "metadata": {},
   "outputs": [],
   "source": [
    "my_quantum_computer = qe.quantum_computer(verbose=False)\n",
    "my_quantum_computer.config(select_qc_model=\"AB_repeat\", depth=2) \n",
    "my_quantum_computer.inputs(my_quantum_encoding, my_entangling, my_parameterised, my_measurement)"
   ]
  },
  {
   "cell_type": "code",
   "execution_count": null,
   "metadata": {},
   "outputs": [],
   "source": [
    "my_trainer = qe.quantum_trainer(verbose=False)\n",
    "my_trainer.config(select_optimiser = \"GD/SGD\")\n",
    "my_trainer.inputs(my_teacher_model, my_quantum_computer, my_loss_function)\n",
    "my_training_report = my_trainer.train()"
   ]
  },
  {
   "cell_type": "code",
   "execution_count": null,
   "metadata": {},
   "outputs": [],
   "source": [
    "x = np.arange(0.1, 2, 0.1)\n",
    "y = my_quantum_model.predict(x)\n",
    "\n",
    "fig, ax = plt.subplots(dpi=100)\n",
    "ax.plot(x,y)"
   ]
  }
 ],
 "metadata": {
  "kernelspec": {
   "display_name": "Python 3",
   "language": "python",
   "name": "python3"
  },
  "language_info": {
   "codemirror_mode": {
    "name": "ipython",
    "version": 3
   },
   "file_extension": ".py",
   "mimetype": "text/x-python",
   "name": "python",
   "nbconvert_exporter": "python",
   "pygments_lexer": "ipython3",
   "version": "3.7.9"
  }
 },
 "nbformat": 4,
 "nbformat_minor": 4
}
